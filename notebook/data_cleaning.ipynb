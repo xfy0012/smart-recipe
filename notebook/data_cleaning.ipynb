{
 "cells": [
  {
   "cell_type": "code",
   "execution_count": 7,
   "id": "64efbc83",
   "metadata": {},
   "outputs": [],
   "source": [
    "import json \n",
    "import pprint\n",
    "import requests\n",
    "import re\n",
    "from collections import defaultdict\n",
    "cleaning_stats = defaultdict(int)"
   ]
  },
  {
   "cell_type": "code",
   "execution_count": 42,
   "id": "02f1a193",
   "metadata": {},
   "outputs": [],
   "source": [
    "# Clean function to remove unwanted characters and validate the recipe\n",
    "def clean_recipe(raw):\n",
    "    if not isinstance(raw, dict):\n",
    "        return None\n",
    "    \n",
    "    title = str(raw.get(\"title\") or \"\").strip()\n",
    "    ingredients = raw.get(\"ingredients\", [])\n",
    "    instructions = str(raw.get(\"instructions\") or \"\").strip()\n",
    "\n",
    "    # Check if title and instructions are present\n",
    "    if not title:\n",
    "        cleaning_stats[\"missing_title\"] += 1\n",
    "        return None\n",
    "    if not instructions:\n",
    "        cleaning_stats[\"missing_instructions\"] += 1\n",
    "        return None\n",
    "    if not isinstance(ingredients, list):\n",
    "        cleaning_stats[\"invalid_ingredients_type\"] += 1\n",
    "        return None\n",
    "\n",
    "    \n",
    "    # Clean up the ingredients\n",
    "    cleaned_ingredients = [\n",
    "        i.strip().replace(\"ADVERTISEMENT\", \"\") \n",
    "        for i in ingredients \n",
    "        if isinstance(i, str) and i.strip()\n",
    "    ]\n",
    "    if len(cleaned_ingredients) < 2:\n",
    "        cleaning_stats[\"too_few_ingredients\"] += 1\n",
    "        return None\n",
    "\n",
    "    return {\n",
    "        \"title\": title,\n",
    "        \"ingredients\": cleaned_ingredients,\n",
    "        \"instructions\": instructions\n",
    "    }"
   ]
  },
  {
   "cell_type": "code",
   "execution_count": 43,
   "id": "e411149b",
   "metadata": {},
   "outputs": [
    {
     "name": "stdout",
     "output_type": "stream",
     "text": [
      "Loaded 39802 + 60039 + 25323 recipes\n"
     ]
    }
   ],
   "source": [
    "# Read the raw recipe data from JSON files\n",
    "with open(\"../data/recipes_raw_nosource_ar.json\") as f1, \\\n",
    "     open(\"../data/recipes_raw_nosource_fn.json\") as f2, \\\n",
    "     open(\"../data/recipes_raw_nosource_epi.json\") as f3:\n",
    "    \n",
    "    raw_ar = list(json.load(f1).values())\n",
    "    raw_fn = list(json.load(f2).values())\n",
    "    raw_epi = list(json.load(f3).values())\n",
    "\n",
    "print(f\"Loaded {len(raw_ar)} + {len(raw_fn)} + {len(raw_epi)} recipes\")"
   ]
  },
  {
   "cell_type": "code",
   "execution_count": 46,
   "id": "051f47df",
   "metadata": {},
   "outputs": [
    {
     "name": "stdout",
     "output_type": "stream",
     "text": [
      "clean 122755 cookbooks\n",
      "Cleaning summary:\n",
      " - missing_title: 1138 recipes removed\n",
      " - too_few_ingredients: 3390 recipes removed\n",
      " - missing_instructions: 290 recipes removed\n"
     ]
    }
   ],
   "source": [
    "cleaned_all = []\n",
    "for r in raw_ar + raw_fn + raw_epi:\n",
    "    result = clean_recipe(r)\n",
    "    if result:\n",
    "        cleaned_all.append(result)\n",
    "\n",
    "print(f\"clean {len(cleaned_all)} cookbooks\")\n",
    "print(\"Cleaning summary:\")\n",
    "for reason, count in cleaning_stats.items():\n",
    "    print(f\" - {reason}: {count} recipes removed\")\n"
   ]
  },
  {
   "cell_type": "code",
   "execution_count": 48,
   "id": "221934bf",
   "metadata": {},
   "outputs": [
    {
     "name": "stdout",
     "output_type": "stream",
     "text": [
      "{'title': 'Slow Cooker Chicken and Dumplings', 'ingredients': ['4 skinless, boneless chicken breast halves ', '2 tablespoons butter ', '2 (10.75 ounce) cans condensed cream of chicken soup ', '1 onion, finely diced ', '2 (10 ounce) packages refrigerated biscuit dough, torn into pieces ', ''], 'instructions': 'Place the chicken, butter, soup, and onion in a slow cooker, and fill with enough water to cover.\\nCover, and cook for 5 to 6 hours on High. About 30 minutes before serving, place the torn biscuit dough in the slow cooker. Cook until the dough is no longer raw in the center.'}\n"
     ]
    }
   ],
   "source": [
    "import pprint\n",
    "print(cleaned_all[0])"
   ]
  },
  {
   "cell_type": "code",
   "execution_count": 49,
   "id": "0523b87f",
   "metadata": {},
   "outputs": [],
   "source": [
    "import json\n",
    "\n",
    "with open(\"cleaned_recipes.json\", \"w\", encoding=\"utf-8\") as f:\n",
    "    json.dump(cleaned_all, f, indent=2, ensure_ascii=False)\n"
   ]
  },
  {
   "cell_type": "code",
   "execution_count": 5,
   "id": "61eb63db",
   "metadata": {},
   "outputs": [],
   "source": [
    "\n",
    "with open(\"cleaned_recipes.json\") as f:\n",
    "    recipes = json.load(f)\n",
    "\n",
    "recipes_200 = recipes[:200]\n",
    "\n",
    "with open(\"recipes_200.json\", \"w\", encoding=\"utf-8\") as f:\n",
    "    json.dump(recipes_200, f, indent=2)"
   ]
  },
  {
   "cell_type": "code",
   "execution_count": 16,
   "id": "00733431",
   "metadata": {},
   "outputs": [],
   "source": [
    "# cleaning data for embedding \n",
    "def clean_ingredient(raw_ingredient: str) -> str:\n",
    "    if not raw_ingredient:\n",
    "        return \"\"\n",
    "    cleaned = re.sub(r\"\\([^)]*\\)\", \"\", raw_ingredient)\n",
    "\n",
    "\n",
    "    cleaned = re.sub(\n",
    "        r\"\"\"^\\s*\n",
    "            (\\d+(\\.\\d+)?|\\d+\\s+\\d+/\\d+|\\d+/\\d+)?      \n",
    "            \\s*\n",
    "            (cup|cups|tablespoons?|tbsp|teaspoons?|tsp|\n",
    "             grams?|g|kg|ml|liters?|oz|ounces?|lbs?|pounds?|\n",
    "             cans?|packages?|slices?|cloves?|sticks?)?     \n",
    "            \\s*\n",
    "        \"\"\",\n",
    "        \"\", cleaned.strip(),\n",
    "        flags=re.IGNORECASE | re.VERBOSE\n",
    "    )\n",
    "\n",
    "    # clean numbers\n",
    "    cleaned = re.sub(r\"\\b\\d+([\\/\\.]\\d+)?\\b\", \"\", cleaned)\n",
    "\n",
    "    cleaned = re.sub(\n",
    "        r\"\\b(cup|cups|tablespoons?|tbsp|teaspoons?|tsp|grams?|g|kg|ml|liters?|oz|ounces?|lbs?|pounds?|cans?|packages?|slices?|cloves?|sticks?)\\b\",\n",
    "        \"\", cleaned\n",
    "    )\n",
    "    cleaned = re.sub(r\"[\\s,.\\-]+\", \" \", cleaned)\n",
    "    \n",
    "    cleaned = re.sub(r\"[^\\w\\s]\", \"\", cleaned)\n",
    "\n",
    "    descriptive_words = r\"\\b(fresh|organic|chopped|diced|minced|sliced|peeled|grated|crushed)\\b\"\n",
    "\n",
    "    cleaned = re.sub(descriptive_words, \"\", cleaned, flags=re.IGNORECASE)\n",
    "\n",
    "    return cleaned.strip(\" ,.-\").lower()"
   ]
  },
  {
   "cell_type": "code",
   "execution_count": 9,
   "id": "94a74356",
   "metadata": {},
   "outputs": [],
   "source": [
    "def build_embedding_input(recipe: dict) -> str:\n",
    "    title = recipe.get(\"title\", \"\").strip()\n",
    "    ingredients = [\n",
    "        clean_ingredient(i) for i in recipe.get(\"ingredients\", []) if i.strip()\n",
    "    ]\n",
    "    ingredients_str = \", \".join(ingredients)\n",
    "    instructions = recipe.get(\"instructions\", \"\").replace(\"\\n\", \" \").strip()\n",
    "\n",
    "    return f\"\"\"Recipe title: {title}\n",
    "Ingredients: {ingredients_str}\n",
    "Instructions: {instructions}\"\"\"\n",
    "\n"
   ]
  },
  {
   "cell_type": "code",
   "execution_count": 18,
   "id": "be505abf",
   "metadata": {},
   "outputs": [
    {
     "name": "stdout",
     "output_type": "stream",
     "text": [
      "Recipe title: Slow Cooker Chicken and Dumplings\n",
      "Ingredients: skinless boneless chicken breast halves, butter, condensed cream of chicken soup, onion finely, refrigerated biscuit dough torn into pieces\n",
      "Instructions: Place the chicken, butter, soup, and onion in a slow cooker, and fill with enough water to cover. Cover, and cook for 5 to 6 hours on High. About 30 minutes before serving, place the torn biscuit dough in the slow cooker. Cook until the dough is no longer raw in the center.\n",
      "================================================================================\n",
      "Recipe title: Awesome Slow Cooker Pot Roast\n",
      "Ingredients: condensed cream of mushroom soup, dry onion soup mix, water, pot roast\n",
      "Instructions: In a slow cooker, mix cream of mushroom soup, dry onion soup mix and water. Place pot roast in slow cooker and coat with soup mixture. Cook on High setting for 3 to 4 hours, or on Low setting for 8 to 9 hours.\n",
      "================================================================================\n",
      "Recipe title: Brown Sugar Meatloaf\n",
      "Ingredients: packed brown sugar, ketchup, lean ground beef, milk, eggs, salt, ground black pepper, small onion, ground ginger, finely  saltine cracker crumbs\n",
      "Instructions: Preheat oven to 350 degrees F (175 degrees C). Lightly grease a 5x9 inch loaf pan. Press the brown sugar in the bottom of the prepared loaf pan and spread the ketchup over the sugar. In a mixing bowl, mix thoroughly all remaining ingredients and shape into a loaf. Place on top of the ketchup. Bake in preheated oven for 1 hour or until juices are clear.\n",
      "================================================================================\n"
     ]
    }
   ],
   "source": [
    "with open(\"recipes_200.json\", \"r\") as f:\n",
    "    recipes = json.load(f)\n",
    "for recipe in recipes:\n",
    "    recipe[\"embedding_input\"] = build_embedding_input(recipe)\n",
    "\n",
    "for r in recipes[:3]:\n",
    "    print(r[\"embedding_input\"])\n",
    "    print(\"=\"*80)\n",
    "\n",
    "with open(\"recipes_with_embedding_input.json\", \"w\") as f:\n",
    "    json.dump(recipes, f, indent=2)"
   ]
  },
  {
   "cell_type": "code",
   "execution_count": 20,
   "id": "434d903f",
   "metadata": {},
   "outputs": [],
   "source": [
    "\n",
    "# load the recipes with embedding input\n",
    "with open('recipes_with_embedding_input.json', 'r') as f:\n",
    "    data = json.load(f)\n",
    "\n",
    "# add features to the recipes\n",
    "for recipe in data:\n",
    "    title = recipe['title'].lower()\n",
    "    features = {}\n",
    "\n",
    "    # cusinie\n",
    "    if 'lasagna' in title or 'italian' in title:\n",
    "        features['cuisine'] = 'Italian'\n",
    "    elif 'chili' in title or 'taco' in title:\n",
    "        features['cuisine'] = 'Mexican'\n",
    "    elif 'chicken' in title or 'meatloaf' in title or 'mac and cheese' in title:\n",
    "        features['cuisine'] = 'American'\n",
    "    elif 'irish' in title:\n",
    "        features['cuisine'] = 'Irish'\n",
    "    elif 'tilapia' in title or 'teriyaki' in title:\n",
    "        features['cuisine'] = 'Asian'\n",
    "    else:\n",
    "        features['cuisine'] = 'Other'\n",
    "\n",
    "\n",
    "    # hard or easy\n",
    "    instr = recipe.get('instructions', '').lower()\n",
    "    if len(instr.split()) < 50:\n",
    "        features['difficulty'] = 'easy'\n",
    "    elif len(instr.split()) < 120:\n",
    "        features['difficulty'] = 'medium'\n",
    "    else:\n",
    "        features['difficulty'] = 'hard'\n",
    "\n",
    "    # add features\n",
    "    recipe['features'] = features\n",
    "\n",
    "# save the updated recipes with features\n",
    "with open('recipes_with_features.json', 'w') as f:\n",
    "    json.dump(data, f, indent=2)\n"
   ]
  },
  {
   "cell_type": "code",
   "execution_count": null,
   "id": "33c82151",
   "metadata": {},
   "outputs": [
    {
     "ename": "AuthenticationError",
     "evalue": "No API key provided. You can set your API key in code using 'voyageai.api_key = <API-KEY>', or set the environment variable VOYAGE_API_KEY=<API-KEY>). If your API key is stored in a file, you can point the voyageai module at it with 'voyageai.api_key_path = <PATH>', or set the environment variable VOYAGE_API_KEY_PATH=<PATH>. API keys can be generated in Voyage AI's dashboard (https://dash.voyageai.com).",
     "output_type": "error",
     "traceback": [
      "\u001b[0;31m---------------------------------------------------------------------------\u001b[0m",
      "\u001b[0;31mAuthenticationError\u001b[0m                       Traceback (most recent call last)",
      "Cell \u001b[0;32mIn[24], line 15\u001b[0m\n\u001b[1;32m     12\u001b[0m     recipes \u001b[38;5;241m=\u001b[39m json\u001b[38;5;241m.\u001b[39mload(f)\n\u001b[1;32m     14\u001b[0m \u001b[38;5;66;03m# 初始化 Voyage 客户端（确保 .env 设置了 VOYAGE_API_KEY）\u001b[39;00m\n\u001b[0;32m---> 15\u001b[0m client \u001b[38;5;241m=\u001b[39m \u001b[43mClient\u001b[49m\u001b[43m(\u001b[49m\u001b[43mapi_key\u001b[49m\u001b[38;5;241;43m=\u001b[39;49m\u001b[43mapi_key\u001b[49m\u001b[43m)\u001b[49m\n\u001b[1;32m     17\u001b[0m \u001b[38;5;28;01mfor\u001b[39;00m recipe \u001b[38;5;129;01min\u001b[39;00m tqdm(recipes, desc\u001b[38;5;241m=\u001b[39m\u001b[38;5;124m\"\u001b[39m\u001b[38;5;124mGenerating Embeddings\u001b[39m\u001b[38;5;124m\"\u001b[39m):\n\u001b[1;32m     18\u001b[0m     \u001b[38;5;28;01mif\u001b[39;00m \u001b[38;5;124m\"\u001b[39m\u001b[38;5;124mvoyage_embedding\u001b[39m\u001b[38;5;124m\"\u001b[39m \u001b[38;5;129;01min\u001b[39;00m recipe:\n",
      "File \u001b[0;32m~/Documents/smart-recipe/venv/lib/python3.9/site-packages/voyageai/client.py:33\u001b[0m, in \u001b[0;36mClient.__init__\u001b[0;34m(self, api_key, max_retries, timeout)\u001b[0m\n\u001b[1;32m     27\u001b[0m \u001b[38;5;28;01mdef\u001b[39;00m\u001b[38;5;250m \u001b[39m\u001b[38;5;21m__init__\u001b[39m(\n\u001b[1;32m     28\u001b[0m     \u001b[38;5;28mself\u001b[39m,\n\u001b[1;32m     29\u001b[0m     api_key: Optional[\u001b[38;5;28mstr\u001b[39m] \u001b[38;5;241m=\u001b[39m \u001b[38;5;28;01mNone\u001b[39;00m,\n\u001b[1;32m     30\u001b[0m     max_retries: \u001b[38;5;28mint\u001b[39m \u001b[38;5;241m=\u001b[39m \u001b[38;5;241m0\u001b[39m,\n\u001b[1;32m     31\u001b[0m     timeout: Optional[\u001b[38;5;28mfloat\u001b[39m] \u001b[38;5;241m=\u001b[39m \u001b[38;5;28;01mNone\u001b[39;00m,\n\u001b[1;32m     32\u001b[0m ) \u001b[38;5;241m-\u001b[39m\u001b[38;5;241m>\u001b[39m\u001b[38;5;28;01mNone\u001b[39;00m:\n\u001b[0;32m---> 33\u001b[0m     \u001b[38;5;28;43msuper\u001b[39;49m\u001b[43m(\u001b[49m\u001b[43m)\u001b[49m\u001b[38;5;241;43m.\u001b[39;49m\u001b[38;5;21;43m__init__\u001b[39;49m\u001b[43m(\u001b[49m\u001b[43mapi_key\u001b[49m\u001b[43m,\u001b[49m\u001b[43m \u001b[49m\u001b[43mmax_retries\u001b[49m\u001b[43m,\u001b[49m\u001b[43m \u001b[49m\u001b[43mtimeout\u001b[49m\u001b[43m)\u001b[49m\n\u001b[1;32m     35\u001b[0m     \u001b[38;5;28mself\u001b[39m\u001b[38;5;241m.\u001b[39mretry_controller \u001b[38;5;241m=\u001b[39m Retrying(\n\u001b[1;32m     36\u001b[0m         reraise\u001b[38;5;241m=\u001b[39m\u001b[38;5;28;01mTrue\u001b[39;00m,\n\u001b[1;32m     37\u001b[0m         stop\u001b[38;5;241m=\u001b[39mstop_after_attempt(max_retries),\n\u001b[0;32m   (...)\u001b[0m\n\u001b[1;32m     43\u001b[0m         ),\n\u001b[1;32m     44\u001b[0m     )\n",
      "File \u001b[0;32m~/Documents/smart-recipe/venv/lib/python3.9/site-packages/voyageai/_base.py:53\u001b[0m, in \u001b[0;36m_BaseClient.__init__\u001b[0;34m(self, api_key, max_retries, timeout)\u001b[0m\n\u001b[1;32m     46\u001b[0m \u001b[38;5;28;01mdef\u001b[39;00m\u001b[38;5;250m \u001b[39m\u001b[38;5;21m__init__\u001b[39m(\n\u001b[1;32m     47\u001b[0m     \u001b[38;5;28mself\u001b[39m,\n\u001b[1;32m     48\u001b[0m     api_key: Optional[\u001b[38;5;28mstr\u001b[39m] \u001b[38;5;241m=\u001b[39m \u001b[38;5;28;01mNone\u001b[39;00m,\n\u001b[1;32m     49\u001b[0m     max_retries: \u001b[38;5;28mint\u001b[39m \u001b[38;5;241m=\u001b[39m \u001b[38;5;241m0\u001b[39m,\n\u001b[1;32m     50\u001b[0m     timeout: Optional[\u001b[38;5;28mfloat\u001b[39m] \u001b[38;5;241m=\u001b[39m \u001b[38;5;28;01mNone\u001b[39;00m,\n\u001b[1;32m     51\u001b[0m ) \u001b[38;5;241m-\u001b[39m\u001b[38;5;241m>\u001b[39m \u001b[38;5;28;01mNone\u001b[39;00m:\n\u001b[0;32m---> 53\u001b[0m     \u001b[38;5;28mself\u001b[39m\u001b[38;5;241m.\u001b[39mapi_key \u001b[38;5;241m=\u001b[39m api_key \u001b[38;5;129;01mor\u001b[39;00m \u001b[43mdefault_api_key\u001b[49m\u001b[43m(\u001b[49m\u001b[43m)\u001b[49m\n\u001b[1;32m     55\u001b[0m     \u001b[38;5;28mself\u001b[39m\u001b[38;5;241m.\u001b[39m_params \u001b[38;5;241m=\u001b[39m {\n\u001b[1;32m     56\u001b[0m         \u001b[38;5;124m\"\u001b[39m\u001b[38;5;124mapi_key\u001b[39m\u001b[38;5;124m\"\u001b[39m: \u001b[38;5;28mself\u001b[39m\u001b[38;5;241m.\u001b[39mapi_key,\n\u001b[1;32m     57\u001b[0m         \u001b[38;5;124m\"\u001b[39m\u001b[38;5;124mrequest_timeout\u001b[39m\u001b[38;5;124m\"\u001b[39m: timeout,\n\u001b[1;32m     58\u001b[0m     }\n",
      "File \u001b[0;32m~/Documents/smart-recipe/venv/lib/python3.9/site-packages/voyageai/util.py:86\u001b[0m, in \u001b[0;36mdefault_api_key\u001b[0;34m()\u001b[0m\n\u001b[1;32m     84\u001b[0m     \u001b[38;5;28;01mreturn\u001b[39;00m api_key\n\u001b[1;32m     85\u001b[0m \u001b[38;5;28;01melse\u001b[39;00m:\n\u001b[0;32m---> 86\u001b[0m     \u001b[38;5;28;01mraise\u001b[39;00m voyageai\u001b[38;5;241m.\u001b[39merror\u001b[38;5;241m.\u001b[39mAuthenticationError(\n\u001b[1;32m     87\u001b[0m         \u001b[38;5;124m\"\u001b[39m\u001b[38;5;124mNo API key provided. You can set your API key in code using \u001b[39m\u001b[38;5;124m'\u001b[39m\u001b[38;5;124mvoyageai.api_key = <API-KEY>\u001b[39m\u001b[38;5;124m'\u001b[39m\u001b[38;5;124m, \u001b[39m\u001b[38;5;124m\"\u001b[39m\n\u001b[1;32m     88\u001b[0m         \u001b[38;5;124m\"\u001b[39m\u001b[38;5;124mor set the environment variable VOYAGE_API_KEY=<API-KEY>). If your API key is stored \u001b[39m\u001b[38;5;124m\"\u001b[39m\n\u001b[1;32m     89\u001b[0m         \u001b[38;5;124m\"\u001b[39m\u001b[38;5;124min a file, you can point the voyageai module at it with \u001b[39m\u001b[38;5;124m'\u001b[39m\u001b[38;5;124mvoyageai.api_key_path = <PATH>\u001b[39m\u001b[38;5;124m'\u001b[39m\u001b[38;5;124m, \u001b[39m\u001b[38;5;124m\"\u001b[39m\n\u001b[1;32m     90\u001b[0m         \u001b[38;5;124m\"\u001b[39m\u001b[38;5;124mor set the environment variable VOYAGE_API_KEY_PATH=<PATH>. \u001b[39m\u001b[38;5;124m\"\u001b[39m\n\u001b[1;32m     91\u001b[0m         \u001b[38;5;124m\"\u001b[39m\u001b[38;5;124mAPI keys can be generated in Voyage AI\u001b[39m\u001b[38;5;124m'\u001b[39m\u001b[38;5;124ms dashboard (https://dash.voyageai.com).\u001b[39m\u001b[38;5;124m\"\u001b[39m\n\u001b[1;32m     92\u001b[0m     )\n",
      "\u001b[0;31mAuthenticationError\u001b[0m: No API key provided. You can set your API key in code using 'voyageai.api_key = <API-KEY>', or set the environment variable VOYAGE_API_KEY=<API-KEY>). If your API key is stored in a file, you can point the voyageai module at it with 'voyageai.api_key_path = <PATH>', or set the environment variable VOYAGE_API_KEY_PATH=<PATH>. API keys can be generated in Voyage AI's dashboard (https://dash.voyageai.com)."
     ]
    }
   ],
   "source": [
    "import time\n",
    "from voyageai import Client\n",
    "from tqdm import tqdm\n",
    "from dotenv import load_dotenv\n",
    "import os\n",
    "\n",
    "load_dotenv()\n",
    "api_key = os.getenv(\"VOYAGER_API\")\n",
    "\n",
    "# 载入你刚刚添加 features 的文件\n",
    "with open(\"recipes_with_features.json\", \"r\") as f:\n",
    "    recipes = json.load(f)\n",
    "\n",
    "# 初始化 Voyage 客户端（确保 .env 设置了 VOYAGE_API_KEY）\n",
    "client = Client(api_key=api_key)\n",
    "\n",
    "for recipe in tqdm(recipes, desc=\"Generating Embeddings\"):\n",
    "    if \"voyage_embedding\" in recipe:\n",
    "        continue\n",
    "\n",
    "    content = recipe.get(\"embedding_input\", \"\")\n",
    "    if not content.strip():\n",
    "        continue\n",
    "\n",
    "    try:\n",
    "        result = client.embed(\n",
    "            [content],\n",
    "            model=\"voyage-3.5\",\n",
    "            input_type=\"document\"\n",
    "        )\n",
    "        recipe[\"voyage_embedding\"] = result.embeddings[0]\n",
    "        time.sleep(1.5)  # 防止 API 被限速\n",
    "    except Exception as e:\n",
    "        print(f\"Error embedding recipe: {recipe['title']} -> {e}\")\n",
    "\n",
    "# 保存成新文件\n",
    "with open(\"recipes_with_embeddings_final.json\", \"w\") as f:\n",
    "    json.dump(recipes, f, indent=2)"
   ]
  }
 ],
 "metadata": {
  "kernelspec": {
   "display_name": "venv",
   "language": "python",
   "name": "python3"
  },
  "language_info": {
   "codemirror_mode": {
    "name": "ipython",
    "version": 3
   },
   "file_extension": ".py",
   "mimetype": "text/x-python",
   "name": "python",
   "nbconvert_exporter": "python",
   "pygments_lexer": "ipython3",
   "version": "3.9.22"
  }
 },
 "nbformat": 4,
 "nbformat_minor": 5
}
