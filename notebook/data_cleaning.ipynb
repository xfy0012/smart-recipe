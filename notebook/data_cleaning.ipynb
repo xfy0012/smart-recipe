{
 "cells": [
  {
   "cell_type": "code",
   "execution_count": 41,
   "id": "64efbc83",
   "metadata": {},
   "outputs": [],
   "source": [
    "import json \n",
    "import pprint\n",
    "import requests\n",
    "from collections import defaultdict\n",
    "cleaning_stats = defaultdict(int)"
   ]
  },
  {
   "cell_type": "code",
   "execution_count": 42,
   "id": "02f1a193",
   "metadata": {},
   "outputs": [],
   "source": [
    "# Clean function to remove unwanted characters and validate the recipe\n",
    "def clean_recipe(raw):\n",
    "    if not isinstance(raw, dict):\n",
    "        return None\n",
    "    \n",
    "    title = str(raw.get(\"title\") or \"\").strip()\n",
    "    ingredients = raw.get(\"ingredients\", [])\n",
    "    instructions = str(raw.get(\"instructions\") or \"\").strip()\n",
    "\n",
    "    # Check if title and instructions are present\n",
    "    if not title:\n",
    "        cleaning_stats[\"missing_title\"] += 1\n",
    "        return None\n",
    "    if not instructions:\n",
    "        cleaning_stats[\"missing_instructions\"] += 1\n",
    "        return None\n",
    "    if not isinstance(ingredients, list):\n",
    "        cleaning_stats[\"invalid_ingredients_type\"] += 1\n",
    "        return None\n",
    "\n",
    "    \n",
    "    # Clean up the ingredients\n",
    "    cleaned_ingredients = [\n",
    "        i.strip().replace(\"ADVERTISEMENT\", \"\") \n",
    "        for i in ingredients \n",
    "        if isinstance(i, str) and i.strip()\n",
    "    ]\n",
    "    if len(cleaned_ingredients) < 2:\n",
    "        cleaning_stats[\"too_few_ingredients\"] += 1\n",
    "        return None\n",
    "\n",
    "    return {\n",
    "        \"title\": title,\n",
    "        \"ingredients\": cleaned_ingredients,\n",
    "        \"instructions\": instructions\n",
    "    }"
   ]
  },
  {
   "cell_type": "code",
   "execution_count": 43,
   "id": "e411149b",
   "metadata": {},
   "outputs": [
    {
     "name": "stdout",
     "output_type": "stream",
     "text": [
      "Loaded 39802 + 60039 + 25323 recipes\n"
     ]
    }
   ],
   "source": [
    "# Read the raw recipe data from JSON files\n",
    "with open(\"../data/recipes_raw_nosource_ar.json\") as f1, \\\n",
    "     open(\"../data/recipes_raw_nosource_fn.json\") as f2, \\\n",
    "     open(\"../data/recipes_raw_nosource_epi.json\") as f3:\n",
    "    \n",
    "    raw_ar = list(json.load(f1).values())\n",
    "    raw_fn = list(json.load(f2).values())\n",
    "    raw_epi = list(json.load(f3).values())\n",
    "\n",
    "print(f\"Loaded {len(raw_ar)} + {len(raw_fn)} + {len(raw_epi)} recipes\")"
   ]
  },
  {
   "cell_type": "code",
   "execution_count": 46,
   "id": "051f47df",
   "metadata": {},
   "outputs": [
    {
     "name": "stdout",
     "output_type": "stream",
     "text": [
      "clean 122755 cookbooks\n",
      "Cleaning summary:\n",
      " - missing_title: 1138 recipes removed\n",
      " - too_few_ingredients: 3390 recipes removed\n",
      " - missing_instructions: 290 recipes removed\n"
     ]
    }
   ],
   "source": [
    "cleaned_all = []\n",
    "for r in raw_ar + raw_fn + raw_epi:\n",
    "    result = clean_recipe(r)\n",
    "    if result:\n",
    "        cleaned_all.append(result)\n",
    "\n",
    "print(f\"clean {len(cleaned_all)} cookbooks\")\n",
    "print(\"Cleaning summary:\")\n",
    "for reason, count in cleaning_stats.items():\n",
    "    print(f\" - {reason}: {count} recipes removed\")\n"
   ]
  },
  {
   "cell_type": "code",
   "execution_count": 48,
   "id": "221934bf",
   "metadata": {},
   "outputs": [
    {
     "name": "stdout",
     "output_type": "stream",
     "text": [
      "{'title': 'Slow Cooker Chicken and Dumplings', 'ingredients': ['4 skinless, boneless chicken breast halves ', '2 tablespoons butter ', '2 (10.75 ounce) cans condensed cream of chicken soup ', '1 onion, finely diced ', '2 (10 ounce) packages refrigerated biscuit dough, torn into pieces ', ''], 'instructions': 'Place the chicken, butter, soup, and onion in a slow cooker, and fill with enough water to cover.\\nCover, and cook for 5 to 6 hours on High. About 30 minutes before serving, place the torn biscuit dough in the slow cooker. Cook until the dough is no longer raw in the center.'}\n"
     ]
    }
   ],
   "source": [
    "import pprint\n",
    "print(cleaned_all[0])"
   ]
  },
  {
   "cell_type": "code",
   "execution_count": 49,
   "id": "0523b87f",
   "metadata": {},
   "outputs": [],
   "source": [
    "import json\n",
    "\n",
    "with open(\"cleaned_recipes.json\", \"w\", encoding=\"utf-8\") as f:\n",
    "    json.dump(cleaned_all, f, indent=2, ensure_ascii=False)\n"
   ]
  }
 ],
 "metadata": {
  "kernelspec": {
   "display_name": "venv",
   "language": "python",
   "name": "python3"
  },
  "language_info": {
   "codemirror_mode": {
    "name": "ipython",
    "version": 3
   },
   "file_extension": ".py",
   "mimetype": "text/x-python",
   "name": "python",
   "nbconvert_exporter": "python",
   "pygments_lexer": "ipython3",
   "version": "3.9.22"
  }
 },
 "nbformat": 4,
 "nbformat_minor": 5
}
